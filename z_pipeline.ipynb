{
 "cells": [
  {
   "cell_type": "code",
   "execution_count": 4,
   "metadata": {},
   "outputs": [],
   "source": [
    "# ════════════════════════════════════════════════════════════\n",
    "# IMPORTS\n",
    "# ════════════════════════════════════════════════════════════\n",
    "import logging\n",
    "from pathlib import Path\n",
    "from modules import run_pipeline\n",
    "from modules.utilities import normalize_path"
   ]
  },
  {
   "cell_type": "code",
   "execution_count": 5,
   "metadata": {},
   "outputs": [],
   "source": [
    "logging.basicConfig(level=logging.INFO)"
   ]
  },
  {
   "cell_type": "markdown",
   "metadata": {},
   "source": [
    "___\n",
    "#### Final Test: Run Pipeline\n",
    "___"
   ]
  },
  {
   "cell_type": "markdown",
   "metadata": {},
   "source": [
    "```python\n",
    "def process_audio_stem_separation(\n",
    "    input_file,\n",
    "    output_path,\n",
    "    override=False,\n",
    "):\n",
    "\n",
    "def process_audio_merging(output_path, override=False, file_name=\"instrumental.mp3\"):\n",
    "\n",
    "def process_audio_extract_lyric_timing(\n",
    "    output_path,\n",
    "    override=False,\n",
    "    file_name=\"raw_lyrics.json\",\n",
    "):\n",
    "```"
   ]
  },
  {
   "cell_type": "markdown",
   "metadata": {},
   "source": [
    "```python\n",
    "input_file =  'C:\\Users\\chris\\ai_karaoke_app\\input\\audio\\test1.mp3 '\n",
    "file_hash =  'acb59db18c5612564488035a65131a78ef6461a4a49555dd59f78f131a01fc21'\n",
    "\n",
    "DEFAULT_OUTPUT_DIR =  'C:\\Users\\chris\\ai_karaoke_app\\output' \n",
    "output_file_path =  'C:\\Users\\chris\\ai_karaoke_app\\output\\acb59db18c5612564488035a65131a78ef6461a4a49555dd59f78f131a01fc21'\n",
    "```"
   ]
  },
  {
   "cell_type": "code",
   "execution_count": 6,
   "metadata": {},
   "outputs": [
    {
     "name": "stdout",
     "output_type": "stream",
     "text": [
      "Input File:  C:\\Users\\chris\\ai_karaoke_app\\input\\audio\\test1.mp3 <class 'str'>\n",
      "Output Directory:  C:\\Users\\chris\\ai_karaoke_app\\output <class 'str'>\n"
     ]
    }
   ],
   "source": [
    "input_file = normalize_path(Path('./input/audio/test1.mp3'))\n",
    "DEFAULT_OUTPUT_DIR = normalize_path(Path(\"./output\"))\n",
    "\n",
    "print(\"Input File: \", input_file, type(input_file))\n",
    "print(\"Output Directory: \", DEFAULT_OUTPUT_DIR, type(DEFAULT_OUTPUT_DIR))"
   ]
  },
  {
   "cell_type": "code",
   "execution_count": 7,
   "metadata": {},
   "outputs": [
    {
     "name": "stderr",
     "output_type": "stream",
     "text": [
      "INFO:root:Working Directory: C:\\Users\\chris\\ai_karaoke_app\\output\\acb59db18c5612564488035a65131a78ef6461a4a49555dd59f78f131a01fc21\n",
      "INFO:root:Stem files already exist. Use override=True to regenerate them.\n",
      "INFO:root:Instrumental already exists. Skipping merge...\n",
      "INFO:root:Lyrics already extracted. Skipping...\n",
      "INFO:root:Pipeline completed successfully.\n"
     ]
    }
   ],
   "source": [
    "run_pipeline(\n",
    "    input_file,\n",
    "    DEFAULT_OUTPUT_DIR,\n",
    "    override_all=False\n",
    ")"
   ]
  },
  {
   "cell_type": "code",
   "execution_count": null,
   "metadata": {},
   "outputs": [],
   "source": []
  }
 ],
 "metadata": {
  "kernelspec": {
   "display_name": "audio_app",
   "language": "python",
   "name": "python3"
  },
  "language_info": {
   "codemirror_mode": {
    "name": "ipython",
    "version": 3
   },
   "file_extension": ".py",
   "mimetype": "text/x-python",
   "name": "python",
   "nbconvert_exporter": "python",
   "pygments_lexer": "ipython3",
   "version": "3.10.16"
  }
 },
 "nbformat": 4,
 "nbformat_minor": 2
}
