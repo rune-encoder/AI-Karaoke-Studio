{
 "cells": [
  {
   "cell_type": "code",
   "execution_count": 1,
   "metadata": {},
   "outputs": [
    {
     "name": "stderr",
     "output_type": "stream",
     "text": [
      "c:\\Users\\chris\\anaconda3\\envs\\audio_app\\lib\\site-packages\\tqdm\\auto.py:21: TqdmWarning: IProgress not found. Please update jupyter and ipywidgets. See https://ipywidgets.readthedocs.io/en/stable/user_install.html\n",
      "  from .autonotebook import tqdm as notebook_tqdm\n"
     ]
    }
   ],
   "source": [
    "from pathlib import Path\n",
    "from modules import run_pipeline\n",
    "from modules.utilities import normalize_path"
   ]
  },
  {
   "cell_type": "code",
   "execution_count": 2,
   "metadata": {},
   "outputs": [
    {
     "name": "stdout",
     "output_type": "stream",
     "text": [
      "Input File:  C:\\Users\\chris\\ai_karaoke_app\\input\\test4.mp3 <class 'str'>\n"
     ]
    }
   ],
   "source": [
    "input_file = normalize_path(Path('./input/test4.mp3'))\n",
    "\n",
    "print(\"Input File: \", input_file, type(input_file))"
   ]
  },
  {
   "cell_type": "code",
   "execution_count": 3,
   "metadata": {},
   "outputs": [
    {
     "name": "stderr",
     "output_type": "stream",
     "text": [
      "\u001b[37m2025-01-24 10:13 - [modules.audio_pre_processing.utilities] - DEBUG - File hash: fce574116a98540d6c81f65e29b27775ba24f3e2aee36ca2eb861df993064fe9\u001b[0m\n",
      "\u001b[34m2025-01-24 10:13 - [modules.audio_pre_processing.process] - INFO - Cache Directory: C:\\Users\\chris\\ai_karaoke_app\\cache\\fce574116a98540d6c81f65e29b27775ba24f3e2aee36ca2eb861df993064fe9\u001b[0m\n",
      "\u001b[34m2025-01-24 10:13 - [modules.audio_pre_processing.process] - INFO - Skipping audio pre-processing... Audio metadata already exist in the output directory...\u001b[0m\n",
      "\u001b[34m2025-01-24 10:13 - [modules.stem_processing.stem_separation.process] - INFO - Skipping stem separation... Audio stems already exist in the output directory...\u001b[0m\n",
      "\u001b[34m2025-01-24 10:13 - [modules.stem_processing.stem_merging.process] - INFO - Skipping audio merging... Karaoke audio already exists in the output directory...\u001b[0m\n",
      "\u001b[34m2025-01-24 10:13 - [modules.lyrics_processing.extract_lyrics.process] - INFO - Skipping lyric extraction... Lyrics raw data already exist in the output directory...\u001b[0m\n",
      "\u001b[37m2025-01-24 10:13 - [modules.lyrics_processing.search_lyrics.main] - DEBUG - Searching for lyrics on Genius for 'Warmness on the Soul' by 'Avenged Sevenfold'...\u001b[0m\n",
      "\u001b[37m2025-01-24 10:13 - [urllib3.connectionpool] - DEBUG - Starting new HTTPS connection (1): api.genius.com:443\u001b[0m\n",
      "\u001b[37m2025-01-24 10:13 - [urllib3.connectionpool] - DEBUG - https://api.genius.com:443 \"GET /search?q=Warmness+on+the+Soul+Avenged+Sevenfold HTTP/11\" 200 None\u001b[0m\n",
      "\u001b[37m2025-01-24 10:13 - [modules.lyrics_processing.search_lyrics.utilities] - DEBUG - Exact match found for 'Warmness on the Soul' by 'Avenged Sevenfold'.\u001b[0m\n",
      "\u001b[37m2025-01-24 10:13 - [modules.lyrics_processing.search_lyrics.main] - DEBUG - Lyrics found at URL: https://genius.com/Avenged-sevenfold-warmness-on-the-soul-lyrics\u001b[0m\n",
      "\u001b[37m2025-01-24 10:13 - [urllib3.connectionpool] - DEBUG - Starting new HTTPS connection (1): genius.com:443\u001b[0m\n",
      "\u001b[37m2025-01-24 10:13 - [urllib3.connectionpool] - DEBUG - https://genius.com:443 \"GET /Avenged-sevenfold-warmness-on-the-soul-lyrics HTTP/11\" 200 None\u001b[0m\n",
      "\u001b[34m2025-01-24 10:13 - [modules.lyrics_processing.search_lyrics.process] - INFO - Official audio lyrics fetched and saved successfully!\u001b[0m\n",
      "\u001b[37m2025-01-24 10:13 - [modules.lyrics_processing.modify_lyrics.main] - DEBUG - Compressed raw lyrics for processing through AI | 177 words\u001b[0m\n",
      "\u001b[37m2025-01-24 10:13 - [modules.lyrics_processing.modify_lyrics.main] - DEBUG - Compressed official lyrics for processing through AI | 163 words\u001b[0m\n",
      "\u001b[37m2025-01-24 10:13 - [modules.lyrics_processing.modify_lyrics.lyrics_processor] - DEBUG - Chunked lyrics into 4 chunks, each with up to 50 words.\u001b[0m\n",
      "\u001b[34m2025-01-24 10:13 - [modules.lyrics_processing.modify_lyrics.lyrics_processor] - INFO - Processing chunk 1/4...\u001b[0m\n",
      "\u001b[37m2025-01-24 10:13 - [modules.lyrics_processing.modify_lyrics.lyrics_processor] - DEBUG - CHUNK 1/4: START: you're | 16.02 => 17.34\u001b[0m\n",
      "\u001b[37m2025-01-24 10:13 - [modules.lyrics_processing.modify_lyrics.lyrics_processor] - DEBUG - CHUNK 1/4: END: love | 71.78 => 73.64\u001b[0m\n",
      "\u001b[37m2025-01-24 10:13 - [modules.lyrics_processing.modify_lyrics.lyrics_processor] - DEBUG - Attempt 1/3: Sending prompt to the LLM.\u001b[0m\n",
      "\u001b[37m2025-01-24 10:13 - [modules.lyrics_processing.modify_lyrics.lyrics_processor] - DEBUG - Valid response obtained on attempt 1.\u001b[0m\n",
      "\u001b[34m2025-01-24 10:13 - [modules.lyrics_processing.modify_lyrics.lyrics_processor] - INFO - Successfully processed chunk 1/4.\u001b[0m\n",
      "\u001b[34m2025-01-24 10:13 - [modules.lyrics_processing.modify_lyrics.lyrics_processor] - INFO - Processing chunk 2/4...\u001b[0m\n",
      "\u001b[37m2025-01-24 10:13 - [modules.lyrics_processing.modify_lyrics.lyrics_processor] - DEBUG - CHUNK 2/4: START: was | 74.64 => 75.28\u001b[0m\n",
      "\u001b[37m2025-01-24 10:13 - [modules.lyrics_processing.modify_lyrics.lyrics_processor] - DEBUG - CHUNK 2/4: END: through | 145.0 => 145.44\u001b[0m\n",
      "\u001b[37m2025-01-24 10:13 - [modules.lyrics_processing.modify_lyrics.lyrics_processor] - DEBUG - Attempt 1/3: Sending prompt to the LLM.\u001b[0m\n",
      "\u001b[37m2025-01-24 10:13 - [modules.lyrics_processing.modify_lyrics.lyrics_processor] - DEBUG - Valid response obtained on attempt 1.\u001b[0m\n",
      "\u001b[34m2025-01-24 10:13 - [modules.lyrics_processing.modify_lyrics.lyrics_processor] - INFO - Successfully processed chunk 2/4.\u001b[0m\n",
      "\u001b[34m2025-01-24 10:13 - [modules.lyrics_processing.modify_lyrics.lyrics_processor] - INFO - Processing chunk 3/4...\u001b[0m\n",
      "\u001b[37m2025-01-24 10:13 - [modules.lyrics_processing.modify_lyrics.lyrics_processor] - DEBUG - CHUNK 3/4: START: good | 145.44 => 145.98\u001b[0m\n",
      "\u001b[37m2025-01-24 10:13 - [modules.lyrics_processing.modify_lyrics.lyrics_processor] - DEBUG - CHUNK 3/4: END: you | 191.42 => 191.92\u001b[0m\n",
      "\u001b[37m2025-01-24 10:13 - [modules.lyrics_processing.modify_lyrics.lyrics_processor] - DEBUG - Attempt 1/3: Sending prompt to the LLM.\u001b[0m\n",
      "\u001b[37m2025-01-24 10:14 - [modules.lyrics_processing.modify_lyrics.lyrics_processor] - DEBUG - Valid response obtained on attempt 1.\u001b[0m\n",
      "\u001b[34m2025-01-24 10:14 - [modules.lyrics_processing.modify_lyrics.lyrics_processor] - INFO - Successfully processed chunk 3/4.\u001b[0m\n",
      "\u001b[34m2025-01-24 10:14 - [modules.lyrics_processing.modify_lyrics.lyrics_processor] - INFO - Processing chunk 4/4...\u001b[0m\n",
      "\u001b[37m2025-01-24 10:14 - [modules.lyrics_processing.modify_lyrics.lyrics_processor] - DEBUG - CHUNK 4/4: START: whoa | 192.62 => 193.34\u001b[0m\n",
      "\u001b[37m2025-01-24 10:14 - [modules.lyrics_processing.modify_lyrics.lyrics_processor] - DEBUG - CHUNK 4/4: END: whoa | 244.92 => 246.22\u001b[0m\n",
      "\u001b[37m2025-01-24 10:14 - [modules.lyrics_processing.modify_lyrics.lyrics_processor] - DEBUG - Attempt 1/3: Sending prompt to the LLM.\u001b[0m\n",
      "\u001b[37m2025-01-24 10:14 - [modules.lyrics_processing.modify_lyrics.lyrics_processor] - DEBUG - Valid response obtained on attempt 1.\u001b[0m\n",
      "\u001b[34m2025-01-24 10:14 - [modules.lyrics_processing.modify_lyrics.lyrics_processor] - INFO - Successfully processed chunk 4/4.\u001b[0m\n",
      "\u001b[34m2025-01-24 10:14 - [modules.lyrics_processing.modify_lyrics.lyrics_processor] - INFO - Modified lyrics successfully processed in chunks!\u001b[0m\n",
      "\u001b[34m2025-01-24 10:14 - [modules.lyrics_processing.modify_lyrics.lyrics_processor] - INFO - Assigning verse numbers to aligned lyrics...\u001b[0m\n",
      "\u001b[37m2025-01-24 10:14 - [modules.lyrics_processing.modify_lyrics.main] - DEBUG - Lyrics successfully processed through AI | 163 words\u001b[0m\n",
      "\u001b[37m2025-01-24 10:14 - [modules.lyrics_processing.modify_lyrics.main] - DEBUG - Lyrics format successfully expanded back to original structure\u001b[0m\n",
      "\u001b[34m2025-01-24 10:14 - [modules.lyrics_processing.modify_lyrics.process] - INFO - Lyrics ai modification completed and saved successfully!\u001b[0m\n"
     ]
    }
   ],
   "source": [
    "run_pipeline(\n",
    "    input_file,\n",
    "    override_all=False,\n",
    "    verbose=True,\n",
    ")"
   ]
  },
  {
   "cell_type": "code",
   "execution_count": null,
   "metadata": {},
   "outputs": [],
   "source": []
  }
 ],
 "metadata": {
  "kernelspec": {
   "display_name": "audio_app",
   "language": "python",
   "name": "python3"
  },
  "language_info": {
   "codemirror_mode": {
    "name": "ipython",
    "version": 3
   },
   "file_extension": ".py",
   "mimetype": "text/x-python",
   "name": "python",
   "nbconvert_exporter": "python",
   "pygments_lexer": "ipython3",
   "version": "3.10.16"
  }
 },
 "nbformat": 4,
 "nbformat_minor": 2
}
