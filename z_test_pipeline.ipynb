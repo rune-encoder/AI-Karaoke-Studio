{
 "cells": [
  {
   "cell_type": "markdown",
   "metadata": {},
   "source": [
    "___\n",
    "#### Final Test: Run Pipeline\n",
    "___"
   ]
  },
  {
   "cell_type": "code",
   "execution_count": 1,
   "metadata": {},
   "outputs": [
    {
     "name": "stderr",
     "output_type": "stream",
     "text": [
      "c:\\Users\\chris\\anaconda3\\envs\\audio_app\\lib\\site-packages\\tqdm\\auto.py:21: TqdmWarning: IProgress not found. Please update jupyter and ipywidgets. See https://ipywidgets.readthedocs.io/en/stable/user_install.html\n",
      "  from .autonotebook import tqdm as notebook_tqdm\n"
     ]
    }
   ],
   "source": [
    "# ════════════════════════════════════════════════════════════\n",
    "# IMPORTS\n",
    "# ════════════════════════════════════════════════════════════\n",
    "from pathlib import Path\n",
    "from modules import run_pipeline\n",
    "from modules.utilities import normalize_path"
   ]
  },
  {
   "cell_type": "code",
   "execution_count": 2,
   "metadata": {},
   "outputs": [
    {
     "name": "stdout",
     "output_type": "stream",
     "text": [
      "Input File:  C:\\Users\\chris\\ai_karaoke_app\\input\\audio\\test1.mp3 <class 'str'>\n",
      "Output Directory:  C:\\Users\\chris\\ai_karaoke_app\\output <class 'str'>\n"
     ]
    }
   ],
   "source": [
    "input_file = normalize_path(Path('./input/audio/test1.mp3'))\n",
    "DEFAULT_OUTPUT_DIR = normalize_path(Path(\"./output\"))\n",
    "\n",
    "print(\"Input File: \", input_file, type(input_file))\n",
    "print(\"Output Directory: \", DEFAULT_OUTPUT_DIR, type(DEFAULT_OUTPUT_DIR))"
   ]
  },
  {
   "cell_type": "code",
   "execution_count": 3,
   "metadata": {},
   "outputs": [
    {
     "name": "stderr",
     "output_type": "stream",
     "text": [
      "\u001b[37m2025-01-22 17:07 - [modules.audio_pre_processing.utilities] - DEBUG - File hash: acb59db18c5612564488035a65131a78ef6461a4a49555dd59f78f131a01fc21\u001b[0m\n",
      "\u001b[34m2025-01-22 17:07 - [modules.audio_pre_processing.process] - INFO - Directory: C:\\Users\\chris\\ai_karaoke_app\\output\\acb59db18c5612564488035a65131a78ef6461a4a49555dd59f78f131a01fc21\u001b[0m\n",
      "\u001b[34m2025-01-22 17:07 - [modules.audio_pre_processing.process] - INFO - Skipping audio pre-processing... Audio metadata already exist in the output directory...\u001b[0m\n",
      "\u001b[34m2025-01-22 17:07 - [modules.stem_processing.stem_separation.process] - INFO - Skipping stem separation... Audio stems already exist in the output directory...\u001b[0m\n",
      "\u001b[34m2025-01-22 17:07 - [modules.stem_processing.stem_merging.process] - INFO - Skipping audio merging... Instrumental audio already exists in the output directory...\u001b[0m\n",
      "\u001b[34m2025-01-22 17:07 - [modules.lyrics_processing.extract_lyrics.process] - INFO - Skipping lyric extraction... Lyrics raw data already exist in the output directory...\u001b[0m\n",
      "\u001b[34m2025-01-22 17:07 - [modules.lyrics_processing.search_lyrics.process] - INFO - Skipping lyric search... Official lyrics file already exists in the output directory.\u001b[0m\n",
      "\u001b[34m2025-01-22 17:07 - [modules.lyrics_processing.modify_lyrics.process] - INFO - Skipping lyrics modification... AI modified lyrics file already exists in the output directory.\u001b[0m\n"
     ]
    }
   ],
   "source": [
    "run_pipeline(\n",
    "    input_file,\n",
    "    DEFAULT_OUTPUT_DIR,\n",
    "    override_all=False,\n",
    "    verbose=True,\n",
    ")"
   ]
  },
  {
   "cell_type": "code",
   "execution_count": null,
   "metadata": {},
   "outputs": [],
   "source": []
  }
 ],
 "metadata": {
  "kernelspec": {
   "display_name": "audio_app",
   "language": "python",
   "name": "python3"
  },
  "language_info": {
   "codemirror_mode": {
    "name": "ipython",
    "version": 3
   },
   "file_extension": ".py",
   "mimetype": "text/x-python",
   "name": "python",
   "nbconvert_exporter": "python",
   "pygments_lexer": "ipython3",
   "version": "3.10.16"
  }
 },
 "nbformat": 4,
 "nbformat_minor": 2
}
